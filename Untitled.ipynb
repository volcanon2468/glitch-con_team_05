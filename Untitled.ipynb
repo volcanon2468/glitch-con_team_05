{
 "cells": [
  {
   "cell_type": "code",
   "execution_count": null,
   "id": "6166d662-11c3-4d82-9f37-1e973f134189",
   "metadata": {},
   "outputs": [
    {
     "data": {
      "text/plain": [
       "'/Users/susruth/Downloads/cleaned_data.csv'"
      ]
     },
     "execution_count": 19,
     "metadata": {},
     "output_type": "execute_result"
    }
   ],
   "source": [
    "import pandas as pd\n",
    "import numpy as np\n",
    "from sklearn.preprocessing import MinMaxScaler\n",
    "\n",
    "# Load dataset\n",
    "file_path = \"/Users/susruth/Downloads/archive/Friday-WorkingHours-Afternoon-DDos.pcap_ISCX.csv\"\n",
    "data = pd.read_csv(file_path)\n",
    "\n",
    "# Remove non-numeric columns\n",
    "data = data.select_dtypes(include=['number'])\n",
    "\n",
    "# Replace infinite values with NaN and drop them\n",
    "data.replace([np.inf, -np.inf], np.nan, inplace=True)\n",
    "data.dropna(inplace=True)\n",
    "\n",
    "# Normalize data\n",
    "scaler = MinMaxScaler()\n",
    "normalized_data = scaler.fit_transform(data)\n",
    "\n",
    "# Save cleaned data\n",
    "cleaned_data_path = \"/Users/susruth/Downloads/cleaned_data.csv\"\n",
    "pd.DataFrame(normalized_data).to_csv(cleaned_data_path, index=False)\n",
    "\n",
    "# Save scaler for later use\n",
    "import joblib\n",
    "joblib.dump(scaler, \"scaler.pkl\")\n",
    "\n",
    "cleaned_data_path"
   ]
  },
  {
   "cell_type": "code",
   "execution_count": 20,
   "id": "a7d94dee-6106-41db-854e-82d85b80f327",
   "metadata": {},
   "outputs": [
    {
     "data": {
      "text/plain": [
       "'/Users/susruth/Downloads/cleaned_data1.csv'"
      ]
     },
     "execution_count": 20,
     "metadata": {},
     "output_type": "execute_result"
    }
   ],
   "source": [
    "import pandas as pd\n",
    "import numpy as np\n",
    "from sklearn.preprocessing import MinMaxScaler\n",
    "\n",
    "# Load dataset\n",
    "file_path = \"/Users/susruth/Downloads/archive/Friday-WorkingHours-Afternoon-PortScan.pcap_ISCX.csv\"\n",
    "data = pd.read_csv(file_path)\n",
    "\n",
    "# Remove non-numeric columns\n",
    "data = data.select_dtypes(include=['number'])\n",
    "\n",
    "# Replace infinite values with NaN and drop them\n",
    "data.replace([np.inf, -np.inf], np.nan, inplace=True)\n",
    "data.dropna(inplace=True)\n",
    "\n",
    "# Normalize data\n",
    "scaler = MinMaxScaler()\n",
    "normalized_data = scaler.fit_transform(data)\n",
    "\n",
    "# Save cleaned data\n",
    "cleaned_data_path = \"/Users/susruth/Downloads/cleaned_data1.csv\"\n",
    "pd.DataFrame(normalized_data).to_csv(cleaned_data_path, index=False)\n",
    "\n",
    "cleaned_data_path"
   ]
  },
  {
   "cell_type": "code",
   "execution_count": 21,
   "id": "4befa871-515c-4fdf-9c0e-431787c99473",
   "metadata": {},
   "outputs": [
    {
     "data": {
      "text/plain": [
       "'/Users/susruth/Downloads/cleaned_data2.csv'"
      ]
     },
     "execution_count": 21,
     "metadata": {},
     "output_type": "execute_result"
    }
   ],
   "source": [
    "import pandas as pd\n",
    "import numpy as np\n",
    "from sklearn.preprocessing import MinMaxScaler\n",
    "\n",
    "# Load dataset\n",
    "file_path = \"/Users/susruth/Downloads/archive/Friday-WorkingHours-Morning.pcap_ISCX.csv\"\n",
    "data = pd.read_csv(file_path)\n",
    "\n",
    "# Remove non-numeric columns\n",
    "data = data.select_dtypes(include=['number'])\n",
    "\n",
    "# Replace infinite values with NaN and drop them\n",
    "data.replace([np.inf, -np.inf], np.nan, inplace=True)\n",
    "data.dropna(inplace=True)\n",
    "\n",
    "# Normalize data\n",
    "scaler = MinMaxScaler()\n",
    "normalized_data = scaler.fit_transform(data)\n",
    "\n",
    "# Save cleaned data\n",
    "cleaned_data_path = \"/Users/susruth/Downloads/cleaned_data2.csv\"\n",
    "pd.DataFrame(normalized_data).to_csv(cleaned_data_path, index=False)\n",
    "\n",
    "cleaned_data_path"
   ]
  },
  {
   "cell_type": "code",
   "execution_count": 22,
   "id": "bb2547f7-d66c-4230-8854-6c964a3a6ac0",
   "metadata": {},
   "outputs": [
    {
     "data": {
      "text/plain": [
       "'/Users/susruth/Downloads/cleaned_data3.csv'"
      ]
     },
     "execution_count": 22,
     "metadata": {},
     "output_type": "execute_result"
    }
   ],
   "source": [
    "import pandas as pd\n",
    "import numpy as np\n",
    "from sklearn.preprocessing import MinMaxScaler\n",
    "\n",
    "# Load dataset\n",
    "file_path = \"/Users/susruth/Downloads/archive/Monday-WorkingHours.pcap_ISCX.csv\"\n",
    "data = pd.read_csv(file_path)\n",
    "\n",
    "# Remove non-numeric columns\n",
    "data = data.select_dtypes(include=['number'])\n",
    "\n",
    "# Replace infinite values with NaN and drop them\n",
    "data.replace([np.inf, -np.inf], np.nan, inplace=True)\n",
    "data.dropna(inplace=True)\n",
    "\n",
    "# Normalize data\n",
    "scaler = MinMaxScaler()\n",
    "normalized_data = scaler.fit_transform(data)\n",
    "\n",
    "# Save cleaned data\n",
    "cleaned_data_path = \"/Users/susruth/Downloads/cleaned_data3.csv\"\n",
    "pd.DataFrame(normalized_data).to_csv(cleaned_data_path, index=False)\n",
    "\n",
    "cleaned_data_path"
   ]
  },
  {
   "cell_type": "code",
   "execution_count": 23,
   "id": "79e24f8b-3e3f-42ee-8411-f4777c919ccb",
   "metadata": {},
   "outputs": [
    {
     "data": {
      "text/plain": [
       "'/Users/susruth/Downloads/cleaned_data4.csv'"
      ]
     },
     "execution_count": 23,
     "metadata": {},
     "output_type": "execute_result"
    }
   ],
   "source": [
    "import pandas as pd\n",
    "import numpy as np\n",
    "from sklearn.preprocessing import MinMaxScaler\n",
    "\n",
    "# Load dataset\n",
    "file_path = \"/Users/susruth/Downloads/archive/Thursday-WorkingHours-Afternoon-Infilteration.pcap_ISCX.csv\"\n",
    "data = pd.read_csv(file_path)\n",
    "\n",
    "# Remove non-numeric columns\n",
    "data = data.select_dtypes(include=['number'])\n",
    "\n",
    "# Replace infinite values with NaN and drop them\n",
    "data.replace([np.inf, -np.inf], np.nan, inplace=True)\n",
    "data.dropna(inplace=True)\n",
    "\n",
    "# Normalize data\n",
    "scaler = MinMaxScaler()\n",
    "normalized_data = scaler.fit_transform(data)\n",
    "\n",
    "# Save cleaned data\n",
    "cleaned_data_path = \"/Users/susruth/Downloads/cleaned_data4.csv\"\n",
    "pd.DataFrame(normalized_data).to_csv(cleaned_data_path, index=False)\n",
    "\n",
    "cleaned_data_path"
   ]
  },
  {
   "cell_type": "code",
   "execution_count": 24,
   "id": "8566b255-c97b-423b-b7ce-e75a479789d3",
   "metadata": {},
   "outputs": [
    {
     "data": {
      "text/plain": [
       "'/Users/susruth/Downloads/cleaned_data5.csv'"
      ]
     },
     "execution_count": 24,
     "metadata": {},
     "output_type": "execute_result"
    }
   ],
   "source": [
    "import pandas as pd\n",
    "import numpy as np\n",
    "from sklearn.preprocessing import MinMaxScaler\n",
    "\n",
    "# Load dataset\n",
    "file_path = \"/Users/susruth/Downloads/archive/Thursday-WorkingHours-Morning-WebAttacks.pcap_ISCX.csv\"\n",
    "data = pd.read_csv(file_path)\n",
    "\n",
    "# Remove non-numeric columns\n",
    "data = data.select_dtypes(include=['number'])\n",
    "\n",
    "# Replace infinite values with NaN and drop them\n",
    "data.replace([np.inf, -np.inf], np.nan, inplace=True)\n",
    "data.dropna(inplace=True)\n",
    "\n",
    "# Normalize data\n",
    "scaler = MinMaxScaler()\n",
    "normalized_data = scaler.fit_transform(data)\n",
    "\n",
    "# Save cleaned data\n",
    "cleaned_data_path = \"/Users/susruth/Downloads/cleaned_data5.csv\"\n",
    "pd.DataFrame(normalized_data).to_csv(cleaned_data_path, index=False)\n",
    "\n",
    "cleaned_data_path"
   ]
  },
  {
   "cell_type": "code",
   "execution_count": 25,
   "id": "3906e68d-dfc5-43a5-8bec-650e313dd273",
   "metadata": {},
   "outputs": [
    {
     "data": {
      "text/plain": [
       "'/Users/susruth/Downloads/cleaned_data6.csv'"
      ]
     },
     "execution_count": 25,
     "metadata": {},
     "output_type": "execute_result"
    }
   ],
   "source": [
    "import pandas as pd\n",
    "import numpy as np\n",
    "from sklearn.preprocessing import MinMaxScaler\n",
    "\n",
    "# Load dataset\n",
    "file_path = \"/Users/susruth/Downloads/archive/Tuesday-WorkingHours.pcap_ISCX.csv\"\n",
    "data = pd.read_csv(file_path)\n",
    "\n",
    "# Remove non-numeric columns\n",
    "data = data.select_dtypes(include=['number'])\n",
    "\n",
    "# Replace infinite values with NaN and drop them\n",
    "data.replace([np.inf, -np.inf], np.nan, inplace=True)\n",
    "data.dropna(inplace=True)\n",
    "\n",
    "# Normalize data\n",
    "scaler = MinMaxScaler()\n",
    "normalized_data = scaler.fit_transform(data)\n",
    "\n",
    "# Save cleaned data\n",
    "cleaned_data_path = \"/Users/susruth/Downloads/cleaned_data6.csv\"\n",
    "pd.DataFrame(normalized_data).to_csv(cleaned_data_path, index=False)\n",
    "\n",
    "cleaned_data_path"
   ]
  },
  {
   "cell_type": "code",
   "execution_count": 26,
   "id": "68f65a57-9765-48cc-894a-dbd8ea88464a",
   "metadata": {},
   "outputs": [
    {
     "data": {
      "text/plain": [
       "'/Users/susruth/Downloads/cleaned_data6.csv'"
      ]
     },
     "execution_count": 26,
     "metadata": {},
     "output_type": "execute_result"
    }
   ],
   "source": [
    "import pandas as pd\n",
    "import numpy as np\n",
    "from sklearn.preprocessing import MinMaxScaler\n",
    "\n",
    "# Load dataset\n",
    "file_path = \"/Users/susruth/Downloads/archive/Wednesday-workingHours.pcap_ISCX.csv\"\n",
    "data = pd.read_csv(file_path)\n",
    "\n",
    "# Remove non-numeric columns\n",
    "data = data.select_dtypes(include=['number'])\n",
    "\n",
    "# Replace infinite values with NaN and drop them\n",
    "data.replace([np.inf, -np.inf], np.nan, inplace=True)\n",
    "data.dropna(inplace=True)\n",
    "\n",
    "# Normalize data\n",
    "scaler = MinMaxScaler()\n",
    "normalized_data = scaler.fit_transform(data)\n",
    "\n",
    "# Save cleaned data\n",
    "cleaned_data_path = \"/Users/susruth/Downloads/cleaned_data6.csv\"\n",
    "pd.DataFrame(normalized_data).to_csv(cleaned_data_path, index=False)\n",
    "\n",
    "cleaned_data_path"
   ]
  },
  {
   "cell_type": "code",
   "execution_count": null,
   "id": "6041c6db-a660-4955-9020-1545d315135e",
   "metadata": {},
   "outputs": [],
   "source": []
  },
  {
   "cell_type": "code",
   "execution_count": null,
   "id": "7a4f8cd4-b8d7-4a9c-b3fa-630a5a4c8f11",
   "metadata": {},
   "outputs": [],
   "source": []
  }
 ],
 "metadata": {
  "kernelspec": {
   "display_name": "Python 3 (ipykernel)",
   "language": "python",
   "name": "python3"
  },
  "language_info": {
   "codemirror_mode": {
    "name": "ipython",
    "version": 3
   },
   "file_extension": ".py",
   "mimetype": "text/x-python",
   "name": "python",
   "nbconvert_exporter": "python",
   "pygments_lexer": "ipython3",
   "version": "3.12.7"
  }
 },
 "nbformat": 4,
 "nbformat_minor": 5
}
